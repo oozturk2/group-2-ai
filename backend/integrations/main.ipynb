{
 "cells": [
  {
   "cell_type": "code",
   "execution_count": 3,
   "metadata": {},
   "outputs": [],
   "source": [
    "from azure_open_ai import create_metadata, nlp_to_sql_translator\n",
    "from sql_helper import db_upload, db_execute_sql\n",
    "import pandas as pd"
   ]
  },
  {
   "cell_type": "code",
   "execution_count": 4,
   "metadata": {},
   "outputs": [],
   "source": [
    "#Data:\n",
    "input_data = pd.read_excel(r'I:\\12-Data Management\\z_Ozturk\\Hackhaton\\TFA_annon_GPT_dataset.xlsx')\n",
    "input_data.columns = [col.replace('_', '').replace('-', '') for col in input_data.columns]\n",
    "\n",
    "#Metadata as \"string\"\n",
    "metadata_str = create_metadata(r'I:\\12-Data Management\\z_Ozturk\\Hackhaton\\GPT_TMD.xlsx')"
   ]
  },
  {
   "cell_type": "code",
   "execution_count": 11,
   "metadata": {},
   "outputs": [
    {
     "name": "stdout",
     "output_type": "stream",
     "text": [
      "Unique rows in the metadata table:  [('dimCalendar', ['DateKey', 'Year', 'Quarter', 'Month']), ('dimCountry', ['CountryKey', 'CountryName', 'CountryRegion', 'CountryFlag']), ('dimEntity', ['EntityKey', 'EntityName', 'EntitySubgroup', 'EntityLocalCurrency']), ('dimAccount', ['AccountKey', 'AccountNumber', 'AccountDescription', 'AccountMapping', 'AccountType']), ('dimTaxType', ['TaxTypeKey', 'TaxTypeCategory', 'TaxTypeSubCategory', 'BorneOrCollected']), ('factTable', ['TransactionID', 'JournalID', 'JournalDescription', 'PostingDate', 'CountryKey', 'EntityKey', 'AmountLC', 'AmountRC', 'ReportingCurrency', 'AccountKey', 'TaxTypeKey'])]\n"
     ]
    }
   ],
   "source": [
    "metadata_xlsx = pd.read_excel(r'I:\\12-Data Management\\z_Ozturk\\Hackhaton\\GPT_TMD.xlsx')\n",
    "tables = metadata_xlsx['TableName'].unique()\n",
    "rows = []\n",
    "for table in tables:\n",
    "    rows.append((table, metadata_xlsx[metadata_xlsx['TableName'] == table]['ColumnName'].values.tolist()))\n",
    "\n",
    "print('Unique rows in the metadata table: ', rows)"
   ]
  },
  {
   "cell_type": "code",
   "execution_count": 12,
   "metadata": {},
   "outputs": [
    {
     "name": "stdout",
     "output_type": "stream",
     "text": [
      "All columns in data:  ['AIndex', 'Subgroup', 'CompanyCode', 'Country', 'FinancialYear', 'ReportingYear', 'ReportingQuarter', 'ReportingPeriod', 'AccountNumber', 'AccountName', 'JournalID', 'JournalDescription', 'PostingDate', 'AmountLC', 'LocalCurrency', 'AmountRC', 'ReportingCurrency', 'TFATaxFootprint', 'TFATransactionCategory', 'TFATransactionSubcategory']\n",
      "Columns that exists in the metadata table:  dimAccount ['AccountNumber']\n",
      "Columns that exists in the metadata table:  factTable ['JournalID', 'JournalDescription', 'PostingDate', 'AmountLC', 'AmountRC', 'ReportingCurrency']\n"
     ]
    }
   ],
   "source": [
    "dfs = {}\n",
    "print(\"All columns in data: \", input_data.columns.values.tolist())\n",
    "for row in rows:\n",
    "    columns_to_split_existing = [col for col in row[1] if col in input_data.columns]\n",
    "    if len(columns_to_split_existing) > 0:\n",
    "        print('Columns that exists in the metadata table: ', row[0], columns_to_split_existing)\n",
    "        dfs[row[0]] = input_data[columns_to_split_existing]\n"
   ]
  },
  {
   "cell_type": "code",
   "execution_count": 13,
   "metadata": {},
   "outputs": [
    {
     "name": "stdout",
     "output_type": "stream",
     "text": [
      "Iteration 0\n",
      "Unique items:  {dtype('O')}\n",
      "['AccountNumber varchar(250)']\n",
      "Iteration 1\n",
      "Unique items:  {dtype('<M8[ns]'), dtype('O'), dtype('float64')}\n",
      "['JournalID varchar(250)', 'JournalDescription varchar(250)', 'PostingDate datetime2', 'AmountLC real', 'AmountRC real', 'ReportingCurrency varchar(250)']\n"
     ]
    }
   ],
   "source": [
    "for idx, table_name in enumerate(list(dfs.keys())):\n",
    "    print(f'Iteration {idx}')\n",
    "    #Column list:\n",
    "    column_list = dfs[table_name].columns.values.tolist()\n",
    "    \n",
    "    #Unique items\n",
    "    print('Unique items: ', set(dfs[table_name].dtypes.values.tolist()))\n",
    "\n",
    "    #Find Data Types:\n",
    "    _dict = {'int64': 'int', 'object': 'varchar(250)', 'datetime64[ns]': 'datetime2', 'float64': 'real'}\n",
    "    types_list = []\n",
    "    for key in dfs[table_name].dtypes.values.tolist():\n",
    "        if str(key) in _dict:\n",
    "            types_list.append(_dict[str(key)])\n",
    "\n",
    "    column_list_with_types = [f\"{col} {type}\" for col, type in zip(column_list, types_list)]\n",
    "    print(column_list_with_types)\n",
    "\n",
    "    #DB Upload\n",
    "    db_upload(dfs[table_name], column_list, column_list_with_types, table_name, 'PyAutomate', 'DK2CPHDM01\\DM01')    "
   ]
  },
  {
   "cell_type": "code",
   "execution_count": 18,
   "metadata": {},
   "outputs": [
    {
     "name": "stdout",
     "output_type": "stream",
     "text": [
      "['sql\\nSELECT MIN(AmountLC) AS LowestTransactionAmountLC\\nFROM factTable;\\n']\n"
     ]
    }
   ],
   "source": [
    "#Create SQL script:\n",
    "prompt = \"What is the lowest transaction amount in local currency?\"\n",
    "response = nlp_to_sql_translator(f\"This is my metadata tabel: {metadata_str}. Please create a SQL query for this request {prompt}\")\n",
    "print(response)"
   ]
  },
  {
   "cell_type": "code",
   "execution_count": 19,
   "metadata": {},
   "outputs": [
    {
     "name": "stdout",
     "output_type": "stream",
     "text": [
      " SELECT MIN(AmountLC) AS LowestTransactionAmountLC FROM factTable; \n"
     ]
    }
   ],
   "source": [
    "sql_script = response[0].replace('\\n', ' ')[3:]\n",
    "print(sql_script)"
   ]
  },
  {
   "cell_type": "code",
   "execution_count": 20,
   "metadata": {},
   "outputs": [],
   "source": [
    "output_data = db_execute_sql(database_name='PyAutomate', server_name='DK2CPHDM01\\DM01', sql_script=sql_script)"
   ]
  },
  {
   "cell_type": "code",
   "execution_count": 23,
   "metadata": {},
   "outputs": [
    {
     "name": "stdout",
     "output_type": "stream",
     "text": [
      "-9978052608.0\n"
     ]
    }
   ],
   "source": [
    "print(output_data[0][0])"
   ]
  }
 ],
 "metadata": {
  "kernelspec": {
   "display_name": "Python 3",
   "language": "python",
   "name": "python3"
  },
  "language_info": {
   "codemirror_mode": {
    "name": "ipython",
    "version": 3
   },
   "file_extension": ".py",
   "mimetype": "text/x-python",
   "name": "python",
   "nbconvert_exporter": "python",
   "pygments_lexer": "ipython3",
   "version": "3.11.5"
  }
 },
 "nbformat": 4,
 "nbformat_minor": 2
}
