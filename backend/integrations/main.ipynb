{
 "cells": [
  {
   "cell_type": "code",
   "execution_count": 2,
   "metadata": {},
   "outputs": [],
   "source": [
    "from azure_open_ai import create_metadata, nlp_to_sql_translator\n",
    "from sql_helper import db_upload\n",
    "import pandas as pd\n",
    "\n",
    "#Data:\n",
    "input_data = pd.read_excel(r'I:\\12-Data Management\\z_Ozturk\\Hackhaton\\TFA_annon_GPT_dataset.xlsx')\n",
    "\n",
    "#Metadata\n",
    "metadata = create_metadata(r'I:\\12-Data Management\\z_Ozturk\\Hackhaton\\GPT_TMD.xlsx')\n",
    "\n",
    "input_data.columns = [col.replace('_', '').replace('-', '') for col in input_data.columns]\n",
    "#print('Columns', input_data.columns)"
   ]
  },
  {
   "cell_type": "code",
   "execution_count": null,
   "metadata": {},
   "outputs": [
    {
     "name": "stdout",
     "output_type": "stream",
     "text": [
      "Unique items:  {dtype('int64'), dtype('<M8[ns]'), dtype('float64'), dtype('O')}\n",
      "['AIndex int', 'Subgroup nvarchar(250)', 'CompanyCode nvarchar(250)', 'Country nvarchar(250)', 'FinancialYear nvarchar(250)', 'ReportingYear int', 'ReportingQuarter nvarchar(250)', 'ReportingPeriod float', 'AccountNumber nvarchar(250)', 'AccountName nvarchar(250)', 'JournalID nvarchar(250)', 'JournalDescription nvarchar(250)', 'PostingDate datetime2', 'AmountLC float', 'LocalCurrency nvarchar(250)', 'AmountRC float', 'ReportingCurrency nvarchar(250)', 'TFATaxFootprint nvarchar(250)', 'TFATransactionCategory nvarchar(250)', 'TFATransactionSubcategory nvarchar(250)']\n"
     ]
    }
   ],
   "source": [
    "#Column list:\n",
    "column_list = input_data.columns.values.tolist()\n",
    "\n",
    "#Unique items\n",
    "print('Unique items: ', set(input_data.dtypes.values.tolist()))\n",
    "\n",
    "#Find Data Types:\n",
    "_dict = {'int64': 'int', 'object': 'varchar(250)', 'datetime64[ns]': 'datetime2', 'float64': 'real'}\n",
    "types_list = []\n",
    "for key in input_data.dtypes.values.tolist():\n",
    "    if str(key) in _dict:\n",
    "        types_list.append(_dict[str(key)])\n",
    "\n",
    "column_list_with_types = [f\"{col} {type}\" for col, type in zip(column_list, types_list)]\n",
    "print(column_list_with_types)"
   ]
  },
  {
   "cell_type": "code",
   "execution_count": null,
   "metadata": {},
   "outputs": [],
   "source": [
    "#DB Upload\n",
    "db_upload(input_data, column_list, column_list_with_types, 'HackathonData', 'PyAutomate', 'DK2CPHDM01\\DM01')"
   ]
  },
  {
   "cell_type": "code",
   "execution_count": null,
   "metadata": {},
   "outputs": [
    {
     "ename": "OSError",
     "evalue": "[Errno 22] Invalid argument: ' Column: [\\'TableID\\', \\'TableName\\', \\'ColumnName\\', \\'ColumnDescription\\', \\'DataType\\', \\'IsKey\\', \\'JoinsToTableID\\', \\'IsNullable\\']. Row: 0 has values: [\\'d001\\', \\'dimCalendar\\', \\'DateKey\\', \\'Primary and natural key - date\\', \\'DATE\\', \\'P\\', \\'na\\', 0]. Row: 1 has values: [\\'d001\\', \\'dimCalendar\\', \\'Year\\', \\'Identifies the year of the date\\', \\'INT\\', \\'na\\', \\'na\\', 1]. Row: 2 has values: [\\'d001\\', \\'dimCalendar\\', \\'Quarter\\', \\'Identifies the quarter of the date\\', \\'INT\\', \\'na\\', \\'na\\', 1]. Row: 3 has values: [\\'d001\\', \\'dimCalendar\\', \\'Month\\', \\'Identifies the month of the date\\', \\'INT\\', \\'na\\', \\'na\\', 1]. Row: 4 has values: [\\'d002\\', \\'dimCountry\\', \\'CountryKey\\', \\'Primary key\\', \\'INT\\', \\'P\\', \\'na\\', 0]. Row: 5 has values: [\\'d002\\', \\'dimCountry\\', \\'CountryName\\', \\'Identifies the country name\\', \\'VARCHAR\\', \\'na\\', \\'na\\', 1]. Row: 6 has values: [\\'d002\\', \\'dimCountry\\', \\'CountryRegion\\', \\'Identifies the region that the country belongs to\\', \\'VARCHAR\\', \\'na\\', \\'na\\', 1]. Row: 7 has values: [\\'d002\\', \\'dimCountry\\', \\'CountryFlag\\', \\'URL to the country flag\\', \\'VARCHAR\\', \\'na\\', \\'na\\', 1]. Row: 8 has values: [\\'d003\\', \\'dimEntity\\', \\'EntityKey\\', \\'Primary key\\', \\'INT\\', \\'P\\', \\'na\\', 0]. Row: 9 has values: [\\'d003\\', \\'dimEntity\\', \\'EntityName\\', \\'Name of the entity\\', \\'VARCHAR\\', \\'na\\', \\'na\\', 1]. Row: 10 has values: [\\'d003\\', \\'dimEntity\\', \\'EntitySubgroup\\', \\'Identifies the sub group that the entity belongs to\\', \\'VARCHAR\\', \\'na\\', \\'na\\', 1]. Row: 11 has values: [\\'d003\\', \\'dimEntity\\', \\'EntityLocalCurrency\\', \\'Identifies the local currency of the entity\\', \\'VARCHAR\\', \\'na\\', \\'na\\', 1]. Row: 12 has values: [\\'d004\\', \\'dimAccount\\', \\'AccountKey\\', \\'Primary key\\', \\'INT\\', \\'P\\', \\'na\\', 0]. Row: 13 has values: [\\'d004\\', \\'dimAccount\\', \\'AccountNumber\\', \\'Identifier for ERP general ledger accounts.\\', \\'VARCHAR\\', \\'na\\', \\'na\\', 1]. Row: 14 has values: [\\'d004\\', \\'dimAccount\\', \\'AccountDescription\\', \\'Identifies names for ERP general ledger accounts\\', \\'VARCHAR\\', \\'na\\', \\'na\\', 1]. Row: 15 has values: [\\'d004\\', \\'dimAccount\\', \\'AccountMapping\\', \\'Identifies the accounts mapping into financial statement captions\\', \\'VARCHAR\\', \\'na\\', \\'na\\', 1]. Row: 16 has values: [\\'d004\\', \\'dimAccount\\', \\'AccountType\\', \\'Identifies whether the account is a balance sheet or profit loss account\\', \\'VARCHAR\\', \\'na\\', \\'na\\', 1]. Row: 17 has values: [\\'d005\\', \\'dimTaxType\\', \\'TaxTypeKey\\', \\'Primary key\\', \\'INT\\', \\'P\\', \\'na\\', 0]. Row: 18 has values: [\\'d005\\', \\'dimTaxType\\', \\'TaxTypeCategory\\', \\'Identifies the category of the tax type (e.g. Profit, Product, People or Other)\\', \\'VARCHAR\\', \\'na\\', \\'na\\', 1]. Row: 19 has values: [\\'d005\\', \\'dimTaxType\\', \\'TaxTypeSubCategory\\', \\'Identifies the sub tax category of the transaction\\', \\'VARCHAR\\', \\'na\\', \\'na\\', 1]. Row: 20 has values: [\\'d005\\', \\'dimTaxType\\', \\'BorneOrCollected\\', \\'Identifies whether the transaction is classified as \"borne\" or \"collected\"\\', \\'VARCHAR\\', \\'na\\', \\'na\\', 1]. Row: 21 has values: [\\'f001\\', \\'factTable\\', \\'TransactionID\\', \\'Primary key\\', \\'INT\\', \\'P\\', \\'na\\', 0]. Row: 22 has values: [\\'f001\\', \\'factTable\\', \\'JournalID\\', \\'Identifier related to the transactions that can be traced back to the source system (accounting record).\\', \\'VARCHAR\\', \\'na\\', \\'na\\', 0]. Row: 23 has values: [\\'f001\\', \\'factTable\\', \\'JournalDescription\\', \\'Description related to the transaction as recorded in the source system\\', \\'VARCHAR\\', \\'na\\', \\'na\\', 1]. Row: 24 has values: [\\'f001\\', \\'factTable\\', \\'PostingDate\\', \\'Posting date of the transaction\\', \\'DATE\\', \\'F\\', \\'d001\\', 0]. Row: 25 has values: [\\'f001\\', \\'factTable\\', \\'CountryKey\\', \\'Foreign key to join country dimension\\', \\'INT\\', \\'F\\', \\'d002\\', 0]. Row: 26 has values: [\\'f001\\', \\'factTable\\', \\'EntityKey\\', \\'Foreign key to join entity dimension\\', \\'INT\\', \\'F\\', \\'d003\\', 0]. Row: 27 has values: [\\'f001\\', \\'factTable\\', \\'AmountLC\\', \\'The transaction amount in local currency\\', \\'DECIMAL\\', \\'na\\', \\'na\\', 1]. Row: 28 has values: [\\'f001\\', \\'factTable\\', \\'AmountRC\\', \\'The transaction amount in reporting currency\\', \\'DECIMAL\\', \\'na\\', \\'na\\', 0]. Row: 29 has values: [\\'f001\\', \\'factTable\\', \\'ReportingCurrency\\', \\'Identifying the reporting currency\\', \\'VARCHAR\\', \\'na\\', \\'na\\', 1]. Row: 30 has values: [\\'f001\\', \\'factTable\\', \\'AccountKey\\', \\'Foreign key to join account dimension\\', \\'INT\\', \\'F\\', \\'d004\\', 0]. Row: 31 has values: [\\'f001\\', \\'factTable\\', \\'TaxTypeKey\\', \\'Foreign key to join tax type dimension\\', \\'INT\\', \\'F\\', \\'d005\\', 0]. '",
     "output_type": "error",
     "traceback": [
      "\u001b[1;31m---------------------------------------------------------------------------\u001b[0m",
      "\u001b[1;31mOSError\u001b[0m                                   Traceback (most recent call last)",
      "Cell \u001b[1;32mIn[63], line 2\u001b[0m\n\u001b[0;32m      1\u001b[0m prompt \u001b[38;5;241m=\u001b[39m \u001b[38;5;124m\"\u001b[39m\u001b[38;5;124mHow many currencices do exist?\u001b[39m\u001b[38;5;124m\"\u001b[39m\n\u001b[1;32m----> 2\u001b[0m metadata_str \u001b[38;5;241m=\u001b[39m \u001b[43mcreate_metadata\u001b[49m\u001b[43m(\u001b[49m\u001b[43mmetadata_data\u001b[49m\u001b[43m)\u001b[49m\n\u001b[0;32m      3\u001b[0m response \u001b[38;5;241m=\u001b[39m nlp_to_sql_translator(\u001b[38;5;124mf\u001b[39m\u001b[38;5;124m\"\u001b[39m\u001b[38;5;124mThis is my metadata tabel: \u001b[39m\u001b[38;5;132;01m{\u001b[39;00mmetadata_str\u001b[38;5;132;01m}\u001b[39;00m\u001b[38;5;124m. Please create a SQL query for this request \u001b[39m\u001b[38;5;132;01m{\u001b[39;00mprompt\u001b[38;5;132;01m}\u001b[39;00m\u001b[38;5;124m\"\u001b[39m)\n\u001b[0;32m      4\u001b[0m \u001b[38;5;28mprint\u001b[39m(response)\n",
      "File \u001b[1;32mi:\\12-Data Management\\z_Ozturk\\Hackhaton\\backend\\integrations\\azure_open_ai.py:34\u001b[0m, in \u001b[0;36mcreate_metadata\u001b[1;34m(xlsx_name)\u001b[0m\n\u001b[0;32m     33\u001b[0m \u001b[38;5;28;01mdef\u001b[39;00m \u001b[38;5;21mcreate_metadata\u001b[39m(xlsx_name\u001b[38;5;241m=\u001b[39m\u001b[38;5;124m'\u001b[39m\u001b[38;5;124mGPT_TMD.xlsx\u001b[39m\u001b[38;5;124m'\u001b[39m):\n\u001b[1;32m---> 34\u001b[0m     df \u001b[38;5;241m=\u001b[39m \u001b[43mpd\u001b[49m\u001b[38;5;241;43m.\u001b[39;49m\u001b[43mread_excel\u001b[49m\u001b[43m(\u001b[49m\u001b[43mxlsx_name\u001b[49m\u001b[43m)\u001b[49m\n\u001b[0;32m     35\u001b[0m     column_data \u001b[38;5;241m=\u001b[39m df\u001b[38;5;241m.\u001b[39mcolumns\u001b[38;5;241m.\u001b[39mvalues\u001b[38;5;241m.\u001b[39mtolist()\n\u001b[0;32m     36\u001b[0m     metadata \u001b[38;5;241m=\u001b[39m \u001b[38;5;124mf\u001b[39m\u001b[38;5;124m\"\u001b[39m\u001b[38;5;124m Column: \u001b[39m\u001b[38;5;132;01m{\u001b[39;00mcolumn_data\u001b[38;5;132;01m}\u001b[39;00m\u001b[38;5;124m. \u001b[39m\u001b[38;5;124m\"\u001b[39m\n",
      "File \u001b[1;32mc:\\Users\\dk2-oozturk2\\AppData\\Local\\Programs\\Python\\Python311\\Lib\\site-packages\\pandas\\io\\excel\\_base.py:504\u001b[0m, in \u001b[0;36mread_excel\u001b[1;34m(io, sheet_name, header, names, index_col, usecols, dtype, engine, converters, true_values, false_values, skiprows, nrows, na_values, keep_default_na, na_filter, verbose, parse_dates, date_parser, date_format, thousands, decimal, comment, skipfooter, storage_options, dtype_backend, engine_kwargs)\u001b[0m\n\u001b[0;32m    502\u001b[0m \u001b[38;5;28;01mif\u001b[39;00m \u001b[38;5;129;01mnot\u001b[39;00m \u001b[38;5;28misinstance\u001b[39m(io, ExcelFile):\n\u001b[0;32m    503\u001b[0m     should_close \u001b[38;5;241m=\u001b[39m \u001b[38;5;28;01mTrue\u001b[39;00m\n\u001b[1;32m--> 504\u001b[0m     io \u001b[38;5;241m=\u001b[39m \u001b[43mExcelFile\u001b[49m\u001b[43m(\u001b[49m\n\u001b[0;32m    505\u001b[0m \u001b[43m        \u001b[49m\u001b[43mio\u001b[49m\u001b[43m,\u001b[49m\n\u001b[0;32m    506\u001b[0m \u001b[43m        \u001b[49m\u001b[43mstorage_options\u001b[49m\u001b[38;5;241;43m=\u001b[39;49m\u001b[43mstorage_options\u001b[49m\u001b[43m,\u001b[49m\n\u001b[0;32m    507\u001b[0m \u001b[43m        \u001b[49m\u001b[43mengine\u001b[49m\u001b[38;5;241;43m=\u001b[39;49m\u001b[43mengine\u001b[49m\u001b[43m,\u001b[49m\n\u001b[0;32m    508\u001b[0m \u001b[43m        \u001b[49m\u001b[43mengine_kwargs\u001b[49m\u001b[38;5;241;43m=\u001b[39;49m\u001b[43mengine_kwargs\u001b[49m\u001b[43m,\u001b[49m\n\u001b[0;32m    509\u001b[0m \u001b[43m    \u001b[49m\u001b[43m)\u001b[49m\n\u001b[0;32m    510\u001b[0m \u001b[38;5;28;01melif\u001b[39;00m engine \u001b[38;5;129;01mand\u001b[39;00m engine \u001b[38;5;241m!=\u001b[39m io\u001b[38;5;241m.\u001b[39mengine:\n\u001b[0;32m    511\u001b[0m     \u001b[38;5;28;01mraise\u001b[39;00m \u001b[38;5;167;01mValueError\u001b[39;00m(\n\u001b[0;32m    512\u001b[0m         \u001b[38;5;124m\"\u001b[39m\u001b[38;5;124mEngine should not be specified when passing \u001b[39m\u001b[38;5;124m\"\u001b[39m\n\u001b[0;32m    513\u001b[0m         \u001b[38;5;124m\"\u001b[39m\u001b[38;5;124man ExcelFile - ExcelFile already has the engine set\u001b[39m\u001b[38;5;124m\"\u001b[39m\n\u001b[0;32m    514\u001b[0m     )\n",
      "File \u001b[1;32mc:\\Users\\dk2-oozturk2\\AppData\\Local\\Programs\\Python\\Python311\\Lib\\site-packages\\pandas\\io\\excel\\_base.py:1563\u001b[0m, in \u001b[0;36mExcelFile.__init__\u001b[1;34m(self, path_or_buffer, engine, storage_options, engine_kwargs)\u001b[0m\n\u001b[0;32m   1561\u001b[0m     ext \u001b[38;5;241m=\u001b[39m \u001b[38;5;124m\"\u001b[39m\u001b[38;5;124mxls\u001b[39m\u001b[38;5;124m\"\u001b[39m\n\u001b[0;32m   1562\u001b[0m \u001b[38;5;28;01melse\u001b[39;00m:\n\u001b[1;32m-> 1563\u001b[0m     ext \u001b[38;5;241m=\u001b[39m \u001b[43minspect_excel_format\u001b[49m\u001b[43m(\u001b[49m\n\u001b[0;32m   1564\u001b[0m \u001b[43m        \u001b[49m\u001b[43mcontent_or_path\u001b[49m\u001b[38;5;241;43m=\u001b[39;49m\u001b[43mpath_or_buffer\u001b[49m\u001b[43m,\u001b[49m\u001b[43m \u001b[49m\u001b[43mstorage_options\u001b[49m\u001b[38;5;241;43m=\u001b[39;49m\u001b[43mstorage_options\u001b[49m\n\u001b[0;32m   1565\u001b[0m \u001b[43m    \u001b[49m\u001b[43m)\u001b[49m\n\u001b[0;32m   1566\u001b[0m     \u001b[38;5;28;01mif\u001b[39;00m ext \u001b[38;5;129;01mis\u001b[39;00m \u001b[38;5;28;01mNone\u001b[39;00m:\n\u001b[0;32m   1567\u001b[0m         \u001b[38;5;28;01mraise\u001b[39;00m \u001b[38;5;167;01mValueError\u001b[39;00m(\n\u001b[0;32m   1568\u001b[0m             \u001b[38;5;124m\"\u001b[39m\u001b[38;5;124mExcel file format cannot be determined, you must specify \u001b[39m\u001b[38;5;124m\"\u001b[39m\n\u001b[0;32m   1569\u001b[0m             \u001b[38;5;124m\"\u001b[39m\u001b[38;5;124man engine manually.\u001b[39m\u001b[38;5;124m\"\u001b[39m\n\u001b[0;32m   1570\u001b[0m         )\n",
      "File \u001b[1;32mc:\\Users\\dk2-oozturk2\\AppData\\Local\\Programs\\Python\\Python311\\Lib\\site-packages\\pandas\\io\\excel\\_base.py:1419\u001b[0m, in \u001b[0;36minspect_excel_format\u001b[1;34m(content_or_path, storage_options)\u001b[0m\n\u001b[0;32m   1416\u001b[0m \u001b[38;5;28;01mif\u001b[39;00m \u001b[38;5;28misinstance\u001b[39m(content_or_path, \u001b[38;5;28mbytes\u001b[39m):\n\u001b[0;32m   1417\u001b[0m     content_or_path \u001b[38;5;241m=\u001b[39m BytesIO(content_or_path)\n\u001b[1;32m-> 1419\u001b[0m \u001b[38;5;28;01mwith\u001b[39;00m \u001b[43mget_handle\u001b[49m\u001b[43m(\u001b[49m\n\u001b[0;32m   1420\u001b[0m \u001b[43m    \u001b[49m\u001b[43mcontent_or_path\u001b[49m\u001b[43m,\u001b[49m\u001b[43m \u001b[49m\u001b[38;5;124;43m\"\u001b[39;49m\u001b[38;5;124;43mrb\u001b[39;49m\u001b[38;5;124;43m\"\u001b[39;49m\u001b[43m,\u001b[49m\u001b[43m \u001b[49m\u001b[43mstorage_options\u001b[49m\u001b[38;5;241;43m=\u001b[39;49m\u001b[43mstorage_options\u001b[49m\u001b[43m,\u001b[49m\u001b[43m \u001b[49m\u001b[43mis_text\u001b[49m\u001b[38;5;241;43m=\u001b[39;49m\u001b[38;5;28;43;01mFalse\u001b[39;49;00m\n\u001b[0;32m   1421\u001b[0m \u001b[43m\u001b[49m\u001b[43m)\u001b[49m \u001b[38;5;28;01mas\u001b[39;00m handle:\n\u001b[0;32m   1422\u001b[0m     stream \u001b[38;5;241m=\u001b[39m handle\u001b[38;5;241m.\u001b[39mhandle\n\u001b[0;32m   1423\u001b[0m     stream\u001b[38;5;241m.\u001b[39mseek(\u001b[38;5;241m0\u001b[39m)\n",
      "File \u001b[1;32mc:\\Users\\dk2-oozturk2\\AppData\\Local\\Programs\\Python\\Python311\\Lib\\site-packages\\pandas\\io\\common.py:872\u001b[0m, in \u001b[0;36mget_handle\u001b[1;34m(path_or_buf, mode, encoding, compression, memory_map, is_text, errors, storage_options)\u001b[0m\n\u001b[0;32m    863\u001b[0m         handle \u001b[38;5;241m=\u001b[39m \u001b[38;5;28mopen\u001b[39m(\n\u001b[0;32m    864\u001b[0m             handle,\n\u001b[0;32m    865\u001b[0m             ioargs\u001b[38;5;241m.\u001b[39mmode,\n\u001b[1;32m   (...)\u001b[0m\n\u001b[0;32m    868\u001b[0m             newline\u001b[38;5;241m=\u001b[39m\u001b[38;5;124m\"\u001b[39m\u001b[38;5;124m\"\u001b[39m,\n\u001b[0;32m    869\u001b[0m         )\n\u001b[0;32m    870\u001b[0m     \u001b[38;5;28;01melse\u001b[39;00m:\n\u001b[0;32m    871\u001b[0m         \u001b[38;5;66;03m# Binary mode\u001b[39;00m\n\u001b[1;32m--> 872\u001b[0m         handle \u001b[38;5;241m=\u001b[39m \u001b[38;5;28mopen\u001b[39m(handle, ioargs\u001b[38;5;241m.\u001b[39mmode)\n\u001b[0;32m    873\u001b[0m     handles\u001b[38;5;241m.\u001b[39mappend(handle)\n\u001b[0;32m    875\u001b[0m \u001b[38;5;66;03m# Convert BytesIO or file objects passed with an encoding\u001b[39;00m\n",
      "\u001b[1;31mOSError\u001b[0m: [Errno 22] Invalid argument: ' Column: [\\'TableID\\', \\'TableName\\', \\'ColumnName\\', \\'ColumnDescription\\', \\'DataType\\', \\'IsKey\\', \\'JoinsToTableID\\', \\'IsNullable\\']. Row: 0 has values: [\\'d001\\', \\'dimCalendar\\', \\'DateKey\\', \\'Primary and natural key - date\\', \\'DATE\\', \\'P\\', \\'na\\', 0]. Row: 1 has values: [\\'d001\\', \\'dimCalendar\\', \\'Year\\', \\'Identifies the year of the date\\', \\'INT\\', \\'na\\', \\'na\\', 1]. Row: 2 has values: [\\'d001\\', \\'dimCalendar\\', \\'Quarter\\', \\'Identifies the quarter of the date\\', \\'INT\\', \\'na\\', \\'na\\', 1]. Row: 3 has values: [\\'d001\\', \\'dimCalendar\\', \\'Month\\', \\'Identifies the month of the date\\', \\'INT\\', \\'na\\', \\'na\\', 1]. Row: 4 has values: [\\'d002\\', \\'dimCountry\\', \\'CountryKey\\', \\'Primary key\\', \\'INT\\', \\'P\\', \\'na\\', 0]. Row: 5 has values: [\\'d002\\', \\'dimCountry\\', \\'CountryName\\', \\'Identifies the country name\\', \\'VARCHAR\\', \\'na\\', \\'na\\', 1]. Row: 6 has values: [\\'d002\\', \\'dimCountry\\', \\'CountryRegion\\', \\'Identifies the region that the country belongs to\\', \\'VARCHAR\\', \\'na\\', \\'na\\', 1]. Row: 7 has values: [\\'d002\\', \\'dimCountry\\', \\'CountryFlag\\', \\'URL to the country flag\\', \\'VARCHAR\\', \\'na\\', \\'na\\', 1]. Row: 8 has values: [\\'d003\\', \\'dimEntity\\', \\'EntityKey\\', \\'Primary key\\', \\'INT\\', \\'P\\', \\'na\\', 0]. Row: 9 has values: [\\'d003\\', \\'dimEntity\\', \\'EntityName\\', \\'Name of the entity\\', \\'VARCHAR\\', \\'na\\', \\'na\\', 1]. Row: 10 has values: [\\'d003\\', \\'dimEntity\\', \\'EntitySubgroup\\', \\'Identifies the sub group that the entity belongs to\\', \\'VARCHAR\\', \\'na\\', \\'na\\', 1]. Row: 11 has values: [\\'d003\\', \\'dimEntity\\', \\'EntityLocalCurrency\\', \\'Identifies the local currency of the entity\\', \\'VARCHAR\\', \\'na\\', \\'na\\', 1]. Row: 12 has values: [\\'d004\\', \\'dimAccount\\', \\'AccountKey\\', \\'Primary key\\', \\'INT\\', \\'P\\', \\'na\\', 0]. Row: 13 has values: [\\'d004\\', \\'dimAccount\\', \\'AccountNumber\\', \\'Identifier for ERP general ledger accounts.\\', \\'VARCHAR\\', \\'na\\', \\'na\\', 1]. Row: 14 has values: [\\'d004\\', \\'dimAccount\\', \\'AccountDescription\\', \\'Identifies names for ERP general ledger accounts\\', \\'VARCHAR\\', \\'na\\', \\'na\\', 1]. Row: 15 has values: [\\'d004\\', \\'dimAccount\\', \\'AccountMapping\\', \\'Identifies the accounts mapping into financial statement captions\\', \\'VARCHAR\\', \\'na\\', \\'na\\', 1]. Row: 16 has values: [\\'d004\\', \\'dimAccount\\', \\'AccountType\\', \\'Identifies whether the account is a balance sheet or profit loss account\\', \\'VARCHAR\\', \\'na\\', \\'na\\', 1]. Row: 17 has values: [\\'d005\\', \\'dimTaxType\\', \\'TaxTypeKey\\', \\'Primary key\\', \\'INT\\', \\'P\\', \\'na\\', 0]. Row: 18 has values: [\\'d005\\', \\'dimTaxType\\', \\'TaxTypeCategory\\', \\'Identifies the category of the tax type (e.g. Profit, Product, People or Other)\\', \\'VARCHAR\\', \\'na\\', \\'na\\', 1]. Row: 19 has values: [\\'d005\\', \\'dimTaxType\\', \\'TaxTypeSubCategory\\', \\'Identifies the sub tax category of the transaction\\', \\'VARCHAR\\', \\'na\\', \\'na\\', 1]. Row: 20 has values: [\\'d005\\', \\'dimTaxType\\', \\'BorneOrCollected\\', \\'Identifies whether the transaction is classified as \"borne\" or \"collected\"\\', \\'VARCHAR\\', \\'na\\', \\'na\\', 1]. Row: 21 has values: [\\'f001\\', \\'factTable\\', \\'TransactionID\\', \\'Primary key\\', \\'INT\\', \\'P\\', \\'na\\', 0]. Row: 22 has values: [\\'f001\\', \\'factTable\\', \\'JournalID\\', \\'Identifier related to the transactions that can be traced back to the source system (accounting record).\\', \\'VARCHAR\\', \\'na\\', \\'na\\', 0]. Row: 23 has values: [\\'f001\\', \\'factTable\\', \\'JournalDescription\\', \\'Description related to the transaction as recorded in the source system\\', \\'VARCHAR\\', \\'na\\', \\'na\\', 1]. Row: 24 has values: [\\'f001\\', \\'factTable\\', \\'PostingDate\\', \\'Posting date of the transaction\\', \\'DATE\\', \\'F\\', \\'d001\\', 0]. Row: 25 has values: [\\'f001\\', \\'factTable\\', \\'CountryKey\\', \\'Foreign key to join country dimension\\', \\'INT\\', \\'F\\', \\'d002\\', 0]. Row: 26 has values: [\\'f001\\', \\'factTable\\', \\'EntityKey\\', \\'Foreign key to join entity dimension\\', \\'INT\\', \\'F\\', \\'d003\\', 0]. Row: 27 has values: [\\'f001\\', \\'factTable\\', \\'AmountLC\\', \\'The transaction amount in local currency\\', \\'DECIMAL\\', \\'na\\', \\'na\\', 1]. Row: 28 has values: [\\'f001\\', \\'factTable\\', \\'AmountRC\\', \\'The transaction amount in reporting currency\\', \\'DECIMAL\\', \\'na\\', \\'na\\', 0]. Row: 29 has values: [\\'f001\\', \\'factTable\\', \\'ReportingCurrency\\', \\'Identifying the reporting currency\\', \\'VARCHAR\\', \\'na\\', \\'na\\', 1]. Row: 30 has values: [\\'f001\\', \\'factTable\\', \\'AccountKey\\', \\'Foreign key to join account dimension\\', \\'INT\\', \\'F\\', \\'d004\\', 0]. Row: 31 has values: [\\'f001\\', \\'factTable\\', \\'TaxTypeKey\\', \\'Foreign key to join tax type dimension\\', \\'INT\\', \\'F\\', \\'d005\\', 0]. '"
     ]
    }
   ],
   "source": [
    "prompt = \"How many currencices do exist?\"\n",
    "metadata_str = create_metadata(metadata_data)\n",
    "response = nlp_to_sql_translator(f\"This is my metadata tabel: {metadata_str}. Please create a SQL query for this request {prompt}\")\n",
    "print(response)"
   ]
  }
 ],
 "metadata": {
  "kernelspec": {
   "display_name": "Python 3",
   "language": "python",
   "name": "python3"
  },
  "language_info": {
   "codemirror_mode": {
    "name": "ipython",
    "version": 3
   },
   "file_extension": ".py",
   "mimetype": "text/x-python",
   "name": "python",
   "nbconvert_exporter": "python",
   "pygments_lexer": "ipython3",
   "version": "3.11.5"
  }
 },
 "nbformat": 4,
 "nbformat_minor": 2
}
